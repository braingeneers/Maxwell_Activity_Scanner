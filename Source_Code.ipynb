{
 "cells": [
  {
   "cell_type": "markdown",
   "id": "acad6027",
   "metadata": {},
   "source": [
    "<font face=\"Courier\" size=7 >Maxwell Activity Scanner - Source Code"
   ]
  },
  {
   "cell_type": "markdown",
   "id": "922fe81a",
   "metadata": {},
   "source": [
    "In this notebook we develop an **activity scanner** for the maxwell system. The purpose of an activity scanner is to determine witch electrodes are in contact with healthy electricaly active neurons. This code replicates the functionality of the activity scanner that can be found inside Maxwell's GUI application, **Scope**."
   ]
  },
  {
   "cell_type": "markdown",
   "id": "e7e389b4",
   "metadata": {},
   "source": [
    "**References**\n",
    "* Read the [Maxwell Manual](MaxLabLive_Manual.pdf) to learn about the original activity scanner on Maxwell.\n",
    "* Check out the original Maxwell activity scanner by opening the Maxwell app, Scope, inside of Teamviewer"
   ]
  },
  {
   "cell_type": "markdown",
   "id": "909340a6",
   "metadata": {},
   "source": [
    "<font color=\"orange\">\n",
    "\n",
    "**Check**\n",
    "* Does `recored_spikes_only` work?\n",
    "* Sanity check that recording function works"
   ]
  },
  {
   "cell_type": "markdown",
   "id": "8f1f0dfe",
   "metadata": {},
   "source": [
    "<font color=\"red\">\n",
    "\n",
    "**To Do**\n",
    "* Do analysis of resulting recordings to find healthy neurons\n",
    "* Get actuall total for scan time\n"
   ]
  },
  {
   "cell_type": "markdown",
   "id": "849e7410",
   "metadata": {},
   "source": [
    "# <font color=\"grey\">Set Up Notebook "
   ]
  },
  {
   "cell_type": "markdown",
   "id": "bf88051e",
   "metadata": {},
   "source": [
    "Import required maxlab packages"
   ]
  },
  {
   "cell_type": "code",
   "execution_count": 1,
   "id": "e50271e2",
   "metadata": {},
   "outputs": [],
   "source": [
    "import ipywidgets as ipw"
   ]
  },
  {
   "cell_type": "code",
   "execution_count": 2,
   "id": "c7fca0c6",
   "metadata": {},
   "outputs": [],
   "source": [
    "import maxlab\n",
    "import maxlab.system\n",
    "import maxlab.chip\n",
    "import maxlab.util\n",
    "import maxlab.saving"
   ]
  },
  {
   "cell_type": "markdown",
   "id": "14a6a22b",
   "metadata": {},
   "source": [
    "Import generic python packages"
   ]
  },
  {
   "cell_type": "code",
   "execution_count": 3,
   "id": "875619ae",
   "metadata": {},
   "outputs": [],
   "source": [
    "import os\n",
    "import tempfile\n",
    "import time"
   ]
  },
  {
   "cell_type": "markdown",
   "id": "d34a841f",
   "metadata": {},
   "source": [
    "Set port for communication"
   ]
  },
  {
   "cell_type": "code",
   "execution_count": 4,
   "id": "c14eec31",
   "metadata": {},
   "outputs": [],
   "source": [
    "#port = 7215"
   ]
  },
  {
   "cell_type": "markdown",
   "id": "530c1dc1",
   "metadata": {},
   "source": [
    "## <font color=\"gray\">Helper function"
   ]
  },
  {
   "cell_type": "markdown",
   "id": "755c36c0",
   "metadata": {},
   "source": [
    "This function is sometimes userful when debugging code in the <font color=\"magenta\">Electrode Configurater Section</font>. It is not used in the final app at all"
   ]
  },
  {
   "cell_type": "code",
   "execution_count": 5,
   "id": "e7f8537e",
   "metadata": {},
   "outputs": [],
   "source": [
    "def numToGrid(num):\n",
    "    return num//220, num%220"
   ]
  },
  {
   "cell_type": "code",
   "execution_count": 6,
   "id": "e4199131",
   "metadata": {},
   "outputs": [],
   "source": [
    "#numToGrid(226)"
   ]
  },
  {
   "cell_type": "markdown",
   "id": "a0803c7b",
   "metadata": {},
   "source": [
    "# <font color=\"blue\">recordActivity Function "
   ]
  },
  {
   "cell_type": "markdown",
   "id": "67b6195c",
   "metadata": {},
   "source": [
    "<font color=\"blue\">recordActivity</font> does one recording from a selection of electrodes that is passed into the function."
   ]
  },
  {
   "cell_type": "markdown",
   "id": "9c339460",
   "metadata": {},
   "source": [
    "The code in this section originally came from [this notebook](/notebooks/Projects/Maxwell_Controller/recorder/Maxwell%20Recorder%20Source%20Code.ipynb)"
   ]
  },
  {
   "cell_type": "code",
   "execution_count": 7,
   "id": "79efa25a",
   "metadata": {},
   "outputs": [],
   "source": [
    "def recordActivity(electrodes, recording_file_name=\"scan\", recording_length=20, gain=512, record_only_spikes=True,\n",
    "                   data_path=\"/home/mxwbio/wetai/homepage/Projects/Maxwell_Activity_Scanner/data\"):\n",
    "    \n",
    "    #print(\"recording electrodes for \"+str(recording_length)+\" seconds\")\n",
    "    maxlab.util.initialize()                                # Initialize Maxwell\n",
    "    maxlab.send( maxlab.chip.Amplifier().set_gain(gain) )   # Set Gain\n",
    "    \n",
    "    array = maxlab.chip.Array('online')     # Load Electrodes\n",
    "    array.reset()\n",
    "    array.select_electrodes( electrodes )\n",
    "    array.route()                           #This might be necessary, but not sure\n",
    "    array.download()\n",
    "    maxlab.util.offset()   \n",
    "    \n",
    "    s = maxlab.saving.Saving()             # Set up file and wells for recording, \n",
    "    s.open_directory(data_path)            # I don't fully understand this code, it's taken from an example\n",
    "    s.set_legacy_format(True)\n",
    "    s.group_delete_all()\n",
    "    \n",
    "    if not record_only_spikes:             # start recording and save results\n",
    "        s.group_define(0, \"routed\")\n",
    "    s.start_file(recording_file_name)\n",
    "    #print(\"Recording Started\")\n",
    "    s.start_recording( range(1) )\n",
    "    time.sleep(recording_length)\n",
    "    #print(\"Saving Results\")\n",
    "    s.stop_recording()\n",
    "    s.stop_file()\n",
    "    s.group_delete_all()\n",
    "    #print(\"Finished\")"
   ]
  },
  {
   "cell_type": "code",
   "execution_count": 8,
   "id": "a6d9a65e",
   "metadata": {},
   "outputs": [],
   "source": [
    "#recordActivity(list(range(1024)))"
   ]
  },
  {
   "cell_type": "markdown",
   "id": "5f1ea625",
   "metadata": {},
   "source": [
    "# <font color=\"magenta\">Eletrode Configurator"
   ]
  },
  {
   "cell_type": "markdown",
   "id": "8b0de654",
   "metadata": {},
   "source": [
    "## <font color=\"gray\">Notes"
   ]
  },
  {
   "cell_type": "markdown",
   "id": "4c290506",
   "metadata": {},
   "source": [
    "There are 26400 electrodes on the MaxOne arranged in a $220\\times120$ grid. Below we sho how the electrodes are numberd on the 4 corners of the HTML canvas grid."
   ]
  },
  {
   "cell_type": "markdown",
   "id": "363a8142",
   "metadata": {
    "cell_style": "split"
   },
   "source": [
    "Top Left:0\n",
    "\n",
    "Bottom Left: 26180"
   ]
  },
  {
   "cell_type": "markdown",
   "id": "9329c84d",
   "metadata": {
    "cell_style": "split"
   },
   "source": [
    "Top Right: 219\n",
    "\n",
    "Bottom Right: 26399"
   ]
  },
  {
   "cell_type": "markdown",
   "id": "1143305c",
   "metadata": {},
   "source": [
    "## <font color=\"gray\">Get Electrode Scans"
   ]
  },
  {
   "cell_type": "code",
   "execution_count": 9,
   "id": "10b5a403",
   "metadata": {
    "code_folding": []
   },
   "outputs": [],
   "source": [
    "def getScansHelper(space=6):\n",
    "    scans = []\n",
    "\n",
    "    for right_shift in range(space): # How many indices we shift right before we start the scan\n",
    "        for down_shift in range(space):\n",
    "\n",
    "            electrodes = []\n",
    "            most_left = down_shift * 220               #  index that is at the left edge of hte grid for a given row\n",
    "            i_left = right_shift + down_shift * 220    # leftmost index in a row where we collect electrodes\n",
    "\n",
    "            while i_left/220 < 120:              # check that the row which we want to collect electrodes from is not beyond bottom boundary\n",
    "                i = i_left                         # Append leftmost electrode to list, then start moving right to collect more\n",
    "                electrodes.append(i_left)\n",
    "\n",
    "                while i-most_left+space < 220:  # keep moving right until we reach the rightmost boundary \n",
    "                    i += space\n",
    "                    electrodes.append(i)\n",
    "\n",
    "                i_left += 220*space         # once we reach the rightmost boundary, jump down to the next row\n",
    "                most_left += 220*space\n",
    "\n",
    "            scans.append(electrodes)        # add scan to list of scans\n",
    "    return scans"
   ]
  },
  {
   "cell_type": "markdown",
   "id": "7d77ce19",
   "metadata": {},
   "source": [
    "## <font color=\"magenta\">Optimized All Scans"
   ]
  },
  {
   "cell_type": "code",
   "execution_count": 10,
   "id": "8a8e56df",
   "metadata": {},
   "outputs": [],
   "source": [
    "def getScans():\n",
    "    scans = getScansHelper(5)\n",
    "    new_scan = []\n",
    "    starter = 1055\n",
    "    for scan in scans:\n",
    "        for i in range(starter,0,-33):\n",
    "            new_scan.append( scan.pop(i) )\n",
    "        starter += -1\n",
    "    scans.append(new_scan)\n",
    "    return scans"
   ]
  },
  {
   "cell_type": "markdown",
   "id": "4d18bb43",
   "metadata": {},
   "source": [
    "## <font color=\"brown\">Scratch Paper"
   ]
  },
  {
   "cell_type": "markdown",
   "id": "7d9f2d02",
   "metadata": {},
   "source": [
    "<font color=\"brown\">Validate data look correct"
   ]
  },
  {
   "cell_type": "code",
   "execution_count": 11,
   "id": "eb6824ed",
   "metadata": {},
   "outputs": [],
   "source": [
    "#scans = getAllScans()"
   ]
  },
  {
   "cell_type": "code",
   "execution_count": 12,
   "id": "59008243",
   "metadata": {},
   "outputs": [],
   "source": [
    "# all_scans = []\n",
    "# for scan in scans:\n",
    "#     all_scans += scan"
   ]
  },
  {
   "cell_type": "code",
   "execution_count": 13,
   "id": "7f49a6d9",
   "metadata": {},
   "outputs": [],
   "source": [
    " #all_scans.sort()\n",
    "\n",
    "# print(all_scans)\n",
    "\n",
    "# len(scans)\n",
    "\n",
    "# print(scans[1])\n",
    "\n",
    "# len(all_scans)\n",
    "\n",
    "#import numpy as np\n",
    "# len(np.unique(all_scans))\n",
    "\n",
    "# for scan in scans:\n",
    "#     print(len(scan))\n",
    "\n",
    "#numToGrid( 23979)\n",
    "\n",
    "# for i in electrodes:\n",
    "#     print(numToGrid(i))"
   ]
  },
  {
   "cell_type": "code",
   "execution_count": null,
   "id": "1db64955",
   "metadata": {},
   "outputs": [],
   "source": []
  },
  {
   "cell_type": "code",
   "execution_count": null,
   "id": "004f3443",
   "metadata": {},
   "outputs": [],
   "source": []
  },
  {
   "cell_type": "markdown",
   "id": "441c274b",
   "metadata": {},
   "source": [
    "# <font color=\"green\">Run 1st Scanner"
   ]
  },
  {
   "cell_type": "markdown",
   "id": "68c225d1",
   "metadata": {},
   "source": [
    "Here we combine the code `recordActivity` function with `getScans` to scan all electrodes."
   ]
  },
  {
   "cell_type": "markdown",
   "id": "9a959caa",
   "metadata": {},
   "source": [
    "## <font color=\"green\">Build widgets"
   ]
  },
  {
   "cell_type": "code",
   "execution_count": 14,
   "id": "e94e9440",
   "metadata": {},
   "outputs": [],
   "source": [
    "#wDataPath = ipw.Text(description=\"Data Path\", value=\"/home/mxwbio/wetai/homepage/Projects/Maxwell_Activity_Scanner/data\")\n",
    "wGain1 = ipw.IntSlider( description='Gain',min=1,max=1024,value=512)\n",
    "wRecordingLength1 = ipw.IntText( value=30, layout=ipw.Layout(width='auto'))\n",
    "wRunScan1 = ipw.Button(description=\"Run\", button_style=\"success\" ) # , layout=ipw.Layout(width='auto')\n",
    "wLengthBox1 = ipw.HBox([ipw.HTML(\"<p>Recording Lengths (seconds)</p>\"),wRecordingLength1 ])\n",
    "wMessage1 = ipw.HTML(\"<h4>Total Scan Time: 25 minutes</h4>\")"
   ]
  },
  {
   "cell_type": "code",
   "execution_count": 15,
   "id": "e509388b",
   "metadata": {},
   "outputs": [
    {
     "data": {
      "application/vnd.jupyter.widget-view+json": {
       "model_id": "bdafa4d17d7c4df4b0f32acde1b42042",
       "version_major": 2,
       "version_minor": 0
      },
      "text/plain": [
       "VBox(children=(IntSlider(value=512, description='Gain', max=1024, min=1), HBox(children=(HTML(value='<p>Record…"
      ]
     },
     "metadata": {},
     "output_type": "display_data"
    }
   ],
   "source": [
    "ScannerBox1 = ipw.VBox([ wGain1, wLengthBox1, wMessage1 , wRunScan1])\n",
    "ScannerBox1"
   ]
  },
  {
   "cell_type": "markdown",
   "id": "cc191a20",
   "metadata": {},
   "source": [
    "## <font color=\"green\">Add Function"
   ]
  },
  {
   "cell_type": "markdown",
   "id": "6f19b3f8",
   "metadata": {},
   "source": [
    "Update message to user based on the value of the `wRecordingLength` widget"
   ]
  },
  {
   "cell_type": "code",
   "execution_count": 16,
   "id": "b7324fac",
   "metadata": {},
   "outputs": [],
   "source": [
    "def updateMessage1(change):\n",
    "    wMessage1.value = \"<h4>Total Scan Time: \"+str(round( wRecordingLength.value*26/60, 1 ))+\" minutes</h4>\"\n",
    "wRecordingLength1.observe(updateMessage1, names='value')"
   ]
  },
  {
   "cell_type": "markdown",
   "id": "db28b823",
   "metadata": {},
   "source": [
    "Run scan was user clicks `wRunScan` button"
   ]
  },
  {
   "cell_type": "code",
   "execution_count": 18,
   "id": "2f41581d",
   "metadata": {},
   "outputs": [],
   "source": [
    "def runScan1(b):\n",
    "    \n",
    "    # If previous activity scan is already there, delete the files\n",
    "    files = !cd /home/mxwbio/wetai/homepage/Projects/Maxwell_Activity_Scanner/scan1_data && ls\n",
    "    if len(files):\n",
    "        !cd /home/mxwbio/wetai/homepage/Projects/Maxwell_Activity_Scanner/scan1_data && rm *\n",
    "    \n",
    "    # do activity scan\n",
    "    count = 0                \n",
    "    for scan in getScans():\n",
    "        count +=1\n",
    "        print(\"Recording \"+str(count)+\" of 26\")\n",
    "        recordActivity(scan, recording_length= wRecordingLength1.value, gain=wGain1.value)\n",
    "    print(\"Finished!\")\n",
    "wRunScan1.on_click(runScan1)"
   ]
  },
  {
   "cell_type": "markdown",
   "id": "6ee800e3",
   "metadata": {},
   "source": [
    "# <font color=\"DarkGreen\">Run 2nd Scanner"
   ]
  },
  {
   "cell_type": "markdown",
   "id": "25b27c3f",
   "metadata": {},
   "source": [
    "## <font color=\"DarkGreen\"> Build Widgets"
   ]
  },
  {
   "cell_type": "code",
   "execution_count": 30,
   "id": "1f6c483c",
   "metadata": {},
   "outputs": [],
   "source": [
    "#wDataPath = ipw.Text(description=\"Data Path\", value=\"/home/mxwbio/wetai/homepage/Projects/Maxwell_Activity_Scanner/data\")\n",
    "wGain2 = ipw.IntSlider( description='Gain',min=1,max=1024,value=512)\n",
    "wRecordingLength2 = ipw.IntText( value=30, layout=ipw.Layout(width='auto'))\n",
    "wRunScan2 = ipw.Button(description=\"Run\", button_style=\"success\" ) # , layout=ipw.Layout(width='auto')\n",
    "wLengthBox2 = ipw.HBox([ipw.HTML(\"<p>Recording Lengths (seconds)</p>\"),wRecordingLength2 ])\n",
    "wMessage2 = ipw.HTML(\"<h4>Total Scan Time: 1 minutes</h4>\")"
   ]
  },
  {
   "cell_type": "code",
   "execution_count": 31,
   "id": "ffbae2fe",
   "metadata": {},
   "outputs": [
    {
     "data": {
      "application/vnd.jupyter.widget-view+json": {
       "model_id": "0affb2dfd2e740ca89b58c8f00f5cbe1",
       "version_major": 2,
       "version_minor": 0
      },
      "text/plain": [
       "VBox(children=(IntSlider(value=512, description='Gain', max=1024, min=1), HBox(children=(HTML(value='<p>Record…"
      ]
     },
     "metadata": {},
     "output_type": "display_data"
    }
   ],
   "source": [
    "ScannerBox2 = ipw.VBox([ wGain2, wLengthBox2, wMessage2, wRunScan2])\n",
    "ScannerBox2"
   ]
  },
  {
   "cell_type": "markdown",
   "id": "592d27ba",
   "metadata": {},
   "source": [
    "## <font color=\"DarkGreen\"> Add Function"
   ]
  },
  {
   "cell_type": "markdown",
   "id": "77a28917",
   "metadata": {},
   "source": [
    "Update message to user based on the value of the `wRecordingLength` widget"
   ]
  },
  {
   "cell_type": "code",
   "execution_count": 32,
   "id": "2814ad74",
   "metadata": {},
   "outputs": [],
   "source": [
    "def updateMessage2(change):\n",
    "    wMessage2.value = \"<h4>Total Scan Time: \"+str(round( wRecordingLength2.value/60, 1 ))+\" minutes</h4>\"\n",
    "wRecordingLength2.observe(updateMessage2, names='value')"
   ]
  },
  {
   "cell_type": "markdown",
   "id": "cbdf9623",
   "metadata": {},
   "source": [
    "Run scan was user clicks `wRunScan` button"
   ]
  },
  {
   "cell_type": "code",
   "execution_count": 33,
   "id": "f4bb8b30",
   "metadata": {},
   "outputs": [],
   "source": [
    "def runScan2(b):\n",
    "    \n",
    "    # If previous activity scan is already there, delete the files\n",
    "    files = !cd /home/mxwbio/wetai/homepage/Projects/Maxwell_Activity_Scanner/scan2_data && ls\n",
    "    if len(files):\n",
    "        !cd /home/mxwbio/wetai/homepage/Projects/Maxwell_Activity_Scanner/scan2_data && rm *\n",
    "    \n",
    "    recordActivity(electrodes_record , recording_length= wRecordingLength2.value, gain=wGain2.value)\n",
    "\n",
    "wRunScan2.on_click(runScan2)"
   ]
  },
  {
   "cell_type": "markdown",
   "id": "68095802",
   "metadata": {},
   "source": [
    "# <font color=\"peru\">Analyze Results <font color=\"red\">Not Done"
   ]
  },
  {
   "cell_type": "code",
   "execution_count": null,
   "id": "0dea3c26",
   "metadata": {},
   "outputs": [],
   "source": []
  },
  {
   "cell_type": "code",
   "execution_count": null,
   "id": "4fe39394",
   "metadata": {},
   "outputs": [],
   "source": []
  },
  {
   "cell_type": "code",
   "execution_count": null,
   "id": "c704365e",
   "metadata": {},
   "outputs": [],
   "source": []
  },
  {
   "cell_type": "markdown",
   "id": "def6465e",
   "metadata": {},
   "source": [
    "# <font color=\"brown\">Scratch Paper"
   ]
  },
  {
   "cell_type": "code",
   "execution_count": null,
   "id": "ce4569c7",
   "metadata": {},
   "outputs": [],
   "source": []
  },
  {
   "cell_type": "code",
   "execution_count": null,
   "id": "d2f65b41",
   "metadata": {},
   "outputs": [],
   "source": []
  },
  {
   "cell_type": "code",
   "execution_count": null,
   "id": "3370efd0",
   "metadata": {},
   "outputs": [],
   "source": []
  }
 ],
 "metadata": {
  "hide_input": false,
  "kernelspec": {
   "display_name": "Python 3",
   "language": "python",
   "name": "python3"
  },
  "language_info": {
   "codemirror_mode": {
    "name": "ipython",
    "version": 3
   },
   "file_extension": ".py",
   "mimetype": "text/x-python",
   "name": "python",
   "nbconvert_exporter": "python",
   "pygments_lexer": "ipython3",
   "version": "3.9.5"
  },
  "toc": {
   "base_numbering": 1,
   "nav_menu": {},
   "number_sections": true,
   "sideBar": true,
   "skip_h1_title": false,
   "title_cell": "Table of Contents",
   "title_sidebar": "Contents",
   "toc_cell": false,
   "toc_position": {},
   "toc_section_display": true,
   "toc_window_display": false
  }
 },
 "nbformat": 4,
 "nbformat_minor": 5
}
