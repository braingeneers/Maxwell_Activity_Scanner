{
 "cells": [
  {
   "cell_type": "markdown",
   "id": "5b388a15",
   "metadata": {},
   "source": [
    "<font color=\"fuchsia\" size=7><i>Maxwell Activity Scanner"
   ]
  },
  {
   "cell_type": "markdown",
   "id": "f01900e0",
   "metadata": {},
   "source": [
    "Use this application to run an activity scann on the MaxOne. An activity scan lets is used to determine which electrodes are active."
   ]
  },
  {
   "cell_type": "code",
   "execution_count": 4,
   "id": "3e557d72",
   "metadata": {},
   "outputs": [],
   "source": [
    "%run Source_Code.ipynb"
   ]
  },
  {
   "cell_type": "markdown",
   "id": "c61b9142",
   "metadata": {},
   "source": [
    "# <font color=\"SkyBlue\"> 1st Activity Scan"
   ]
  },
  {
   "cell_type": "code",
   "execution_count": 5,
   "id": "965e1952",
   "metadata": {},
   "outputs": [
    {
     "data": {
      "application/vnd.jupyter.widget-view+json": {
       "model_id": "b2f79da24c04448fa18eeeb1de39b33b",
       "version_major": 2,
       "version_minor": 0
      },
      "text/plain": [
       "VBox(children=(IntSlider(value=512, description='Gain', max=1024, min=1), HBox(children=(HTML(value='<p>Record…"
      ]
     },
     "metadata": {},
     "output_type": "display_data"
    }
   ],
   "source": [
    "ScannerBox1"
   ]
  },
  {
   "cell_type": "markdown",
   "id": "94a754bc",
   "metadata": {},
   "source": [
    "# <font color=\"SkyBlue\" > Find Recording Electrodes <font color=\"red\"> Ash"
   ]
  },
  {
   "cell_type": "markdown",
   "id": "cbf7aa09",
   "metadata": {},
   "source": [
    "<font color=\"red\">Get code from Ash"
   ]
  },
  {
   "cell_type": "markdown",
   "id": "ede71e3c",
   "metadata": {},
   "source": [
    "Ash's code will yield an array called `electrodes_record` which we will then use for the second recording."
   ]
  },
  {
   "cell_type": "code",
   "execution_count": null,
   "id": "d042f1e2",
   "metadata": {},
   "outputs": [],
   "source": []
  },
  {
   "cell_type": "code",
   "execution_count": 3,
   "id": "9fb1e8e7",
   "metadata": {},
   "outputs": [],
   "source": [
    "#print(electrodes_record)"
   ]
  },
  {
   "cell_type": "markdown",
   "id": "0738f7b7",
   "metadata": {},
   "source": [
    "# <font color=\"DarkOrchid\"> 2nd Activity Scan"
   ]
  },
  {
   "cell_type": "code",
   "execution_count": 6,
   "id": "96f7f608",
   "metadata": {},
   "outputs": [
    {
     "data": {
      "application/vnd.jupyter.widget-view+json": {
       "model_id": "1fd13899ac1e4798a5f7695d82abfa08",
       "version_major": 2,
       "version_minor": 0
      },
      "text/plain": [
       "VBox(children=(IntSlider(value=512, description='Gain', max=1024, min=1), HBox(children=(HTML(value='<p>Record…"
      ]
     },
     "metadata": {},
     "output_type": "display_data"
    }
   ],
   "source": [
    "ScannerBox2"
   ]
  },
  {
   "cell_type": "markdown",
   "id": "9709cfa4",
   "metadata": {},
   "source": [
    "# <font color=\"DarkOrchid\"> Find Stimulation Eelctrodes <font color=\"red\"> Ash"
   ]
  },
  {
   "cell_type": "markdown",
   "id": "d84f4229",
   "metadata": {},
   "source": [
    "<font color=\"red\">Get Code from Ash"
   ]
  },
  {
   "cell_type": "code",
   "execution_count": null,
   "id": "cdf3d01e",
   "metadata": {},
   "outputs": [],
   "source": []
  },
  {
   "cell_type": "markdown",
   "id": "868516d2",
   "metadata": {},
   "source": [
    "# <font color=\"green\"> Save Results"
   ]
  },
  {
   "cell_type": "code",
   "execution_count": 2,
   "id": "cbee3f5f",
   "metadata": {},
   "outputs": [],
   "source": [
    "import pickle"
   ]
  },
  {
   "cell_type": "code",
   "execution_count": 19,
   "id": "fa499977",
   "metadata": {},
   "outputs": [],
   "source": [
    "electrodes = { \"record\":list(range(1024)) , \"stim\":list(range(32)) }"
   ]
  },
  {
   "cell_type": "code",
   "execution_count": 20,
   "id": "91dcae6d",
   "metadata": {},
   "outputs": [],
   "source": [
    "with open(r\"electrodes.pickle\", \"wb\") as output_file:\n",
    "    pickle.dump(electrodes, output_file)"
   ]
  },
  {
   "cell_type": "markdown",
   "id": "14799419",
   "metadata": {},
   "source": [
    "## <font color=\"brown\">Check that we can read results later"
   ]
  },
  {
   "cell_type": "code",
   "execution_count": 3,
   "id": "0e5ebed1",
   "metadata": {},
   "outputs": [],
   "source": [
    "with (open(\"electrodes.pickle\", \"rb\")) as openfile:\n",
    "    electrodes_test = pickle.load(openfile)"
   ]
  },
  {
   "cell_type": "code",
   "execution_count": 10,
   "id": "7456a481",
   "metadata": {},
   "outputs": [
    {
     "name": "stdout",
     "output_type": "stream",
     "text": [
      "[0, 1, 2, 3, 4, 5, 6, 7, 8, 9, 10, 11, 12, 13, 14, 15, 16, 17, 18, 19, 20, 21, 22, 23, 24, 25, 26, 27, 28, 29, 30, 31]\n"
     ]
    }
   ],
   "source": [
    "print(electrodes_test[\"stim\"])"
   ]
  },
  {
   "cell_type": "code",
   "execution_count": null,
   "id": "22fd5e10",
   "metadata": {},
   "outputs": [],
   "source": []
  }
 ],
 "metadata": {
  "hide_input": false,
  "kernelspec": {
   "display_name": "Python 3",
   "language": "python",
   "name": "python3"
  },
  "language_info": {
   "codemirror_mode": {
    "name": "ipython",
    "version": 3
   },
   "file_extension": ".py",
   "mimetype": "text/x-python",
   "name": "python",
   "nbconvert_exporter": "python",
   "pygments_lexer": "ipython3",
   "version": "3.9.5"
  },
  "toc": {
   "base_numbering": 1,
   "nav_menu": {},
   "number_sections": true,
   "sideBar": true,
   "skip_h1_title": false,
   "title_cell": "Table of Contents",
   "title_sidebar": "Contents",
   "toc_cell": false,
   "toc_position": {},
   "toc_section_display": true,
   "toc_window_display": false
  },
  "widgets": {
   "application/vnd.jupyter.widget-state+json": {
    "state": {
     "0374b47ec8034460bbc5e52e642acd5d": {
      "model_module": "@jupyter-widgets/base",
      "model_module_version": "1.2.0",
      "model_name": "LayoutModel",
      "state": {
       "width": "auto"
      }
     },
     "04757dcb62ff465c95c820fa3331c885": {
      "model_module": "@jupyter-widgets/controls",
      "model_module_version": "1.5.0",
      "model_name": "DescriptionStyleModel",
      "state": {
       "description_width": ""
      }
     },
     "0700a3e9761c4adcaff27f356fd2ffab": {
      "model_module": "@jupyter-widgets/controls",
      "model_module_version": "1.5.0",
      "model_name": "IntTextModel",
      "state": {
       "layout": "IPY_MODEL_faa5d887a88f407781dbca08b415bbfa",
       "step": 1,
       "style": "IPY_MODEL_b8cde4f8d72e4d30849e9c27f7cb43f6",
       "value": 10
      }
     },
     "0ca10ec282d046cf8ae511f8aa1e7504": {
      "model_module": "@jupyter-widgets/controls",
      "model_module_version": "1.5.0",
      "model_name": "DescriptionStyleModel",
      "state": {
       "description_width": ""
      }
     },
     "0d0d1cec277b4631934344a9af99ae81": {
      "model_module": "@jupyter-widgets/base",
      "model_module_version": "1.2.0",
      "model_name": "LayoutModel",
      "state": {}
     },
     "0f3be72a3af541ffa936c12d9235cdde": {
      "model_module": "@jupyter-widgets/controls",
      "model_module_version": "1.5.0",
      "model_name": "ButtonModel",
      "state": {
       "button_style": "success",
       "description": "Run",
       "layout": "IPY_MODEL_7adf721f9da544459f9ac8a33b2caef8",
       "style": "IPY_MODEL_7ff4421e2ce8492dbf6ea00de6290e13"
      }
     },
     "1c0ae23e7b8d4775a3079a112f99aeed": {
      "model_module": "@jupyter-widgets/controls",
      "model_module_version": "1.5.0",
      "model_name": "DescriptionStyleModel",
      "state": {
       "description_width": ""
      }
     },
     "1f3b6502b4f54eab99c84cd6b9eeb0f9": {
      "model_module": "@jupyter-widgets/base",
      "model_module_version": "1.2.0",
      "model_name": "LayoutModel",
      "state": {
       "width": "auto"
      }
     },
     "2035caa1be6444a2bbeb29242ca2819e": {
      "model_module": "@jupyter-widgets/controls",
      "model_module_version": "1.5.0",
      "model_name": "DescriptionStyleModel",
      "state": {
       "description_width": ""
      }
     },
     "20c35acfa88e4c2ab8d33c6c13030bc7": {
      "model_module": "@jupyter-widgets/controls",
      "model_module_version": "1.5.0",
      "model_name": "DescriptionStyleModel",
      "state": {
       "description_width": ""
      }
     },
     "244b7e6fe59445f4bd7291cf2f746094": {
      "model_module": "@jupyter-widgets/base",
      "model_module_version": "1.2.0",
      "model_name": "LayoutModel",
      "state": {}
     },
     "27a64af9d782484187b15fcf534e339f": {
      "model_module": "@jupyter-widgets/base",
      "model_module_version": "1.2.0",
      "model_name": "LayoutModel",
      "state": {}
     },
     "296392085ed7405b9256d957319b3d74": {
      "model_module": "@jupyter-widgets/controls",
      "model_module_version": "1.5.0",
      "model_name": "IntTextModel",
      "state": {
       "layout": "IPY_MODEL_dd1407d7dddc4117ac93758be2770f06",
       "step": 1,
       "style": "IPY_MODEL_abefb8dc039f43d0a7d82908c9da92b7",
       "value": 30
      }
     },
     "2c523a1a53744589bb6bffece80ad03e": {
      "model_module": "@jupyter-widgets/base",
      "model_module_version": "1.2.0",
      "model_name": "LayoutModel",
      "state": {}
     },
     "2c85bee6976b4f6492cc88e364e4dbda": {
      "model_module": "@jupyter-widgets/controls",
      "model_module_version": "1.5.0",
      "model_name": "DescriptionStyleModel",
      "state": {
       "description_width": ""
      }
     },
     "2f1a79ccfb9f416cac7b90950985af11": {
      "model_module": "@jupyter-widgets/controls",
      "model_module_version": "1.5.0",
      "model_name": "DescriptionStyleModel",
      "state": {
       "description_width": ""
      }
     },
     "309a5874edd54428b99cfd33a1ca79cb": {
      "model_module": "@jupyter-widgets/controls",
      "model_module_version": "1.5.0",
      "model_name": "ButtonStyleModel",
      "state": {}
     },
     "31af43fd457e477481d549b87b11e30d": {
      "model_module": "@jupyter-widgets/base",
      "model_module_version": "1.2.0",
      "model_name": "LayoutModel",
      "state": {}
     },
     "3ab81a1882ee4ec8b77a784eea3f90b8": {
      "model_module": "@jupyter-widgets/controls",
      "model_module_version": "1.5.0",
      "model_name": "HTMLModel",
      "state": {
       "layout": "IPY_MODEL_b0387b0a71ac483bb54f017ba3c2dcc0",
       "style": "IPY_MODEL_f411d8471f794e24a731a4e5190bf2a3",
       "value": "<p>Recording Lengths (seconds)</p>"
      }
     },
     "3ad768fda7f440e08dc4eb2f63abd6e6": {
      "model_module": "@jupyter-widgets/controls",
      "model_module_version": "1.5.0",
      "model_name": "HTMLModel",
      "state": {
       "layout": "IPY_MODEL_f0cf5b291bc74af3b681fe1055e2b081",
       "style": "IPY_MODEL_800133be54fb4242838c4606537c99e6",
       "value": "<h4>Total Scan Time: 3.0 minutes</h4>"
      }
     },
     "3b5a6ad10abd4eec80a4be8ff5716b40": {
      "model_module": "@jupyter-widgets/controls",
      "model_module_version": "1.5.0",
      "model_name": "HBoxModel",
      "state": {
       "children": [
        "IPY_MODEL_3ab81a1882ee4ec8b77a784eea3f90b8",
        "IPY_MODEL_4df0557d093f4f02be3d190077fd4d1e",
        "IPY_MODEL_95526efe80214ccabe1398c6a2b07c6d"
       ],
       "layout": "IPY_MODEL_244b7e6fe59445f4bd7291cf2f746094"
      }
     },
     "41ea7ed7fe8145edaf289e80280d581a": {
      "model_module": "@jupyter-widgets/base",
      "model_module_version": "1.2.0",
      "model_name": "LayoutModel",
      "state": {
       "width": "auto"
      }
     },
     "49e664df26c544778024aa4ed7425ed8": {
      "model_module": "@jupyter-widgets/controls",
      "model_module_version": "1.5.0",
      "model_name": "ButtonModel",
      "state": {
       "button_style": "success",
       "description": "Run",
       "layout": "IPY_MODEL_1f3b6502b4f54eab99c84cd6b9eeb0f9",
       "style": "IPY_MODEL_9365c687f36446b8ace4640396fd28c9"
      }
     },
     "4afab81a6a1341b18b6052cfe69b0986": {
      "model_module": "@jupyter-widgets/controls",
      "model_module_version": "1.5.0",
      "model_name": "ButtonStyleModel",
      "state": {}
     },
     "4df0557d093f4f02be3d190077fd4d1e": {
      "model_module": "@jupyter-widgets/controls",
      "model_module_version": "1.5.0",
      "model_name": "IntTextModel",
      "state": {
       "layout": "IPY_MODEL_41ea7ed7fe8145edaf289e80280d581a",
       "step": 1,
       "style": "IPY_MODEL_ab92a128c85a44a5abb118a4ea3283ea",
       "value": 5
      }
     },
     "5179de38071146a4aefa6ad0bf24735b": {
      "model_module": "@jupyter-widgets/base",
      "model_module_version": "1.2.0",
      "model_name": "LayoutModel",
      "state": {}
     },
     "5700ef02711c48a9a97fde4d5555a067": {
      "model_module": "@jupyter-widgets/controls",
      "model_module_version": "1.5.0",
      "model_name": "DescriptionStyleModel",
      "state": {
       "description_width": ""
      }
     },
     "5a209786559d4299b2950abc45a3bba4": {
      "model_module": "@jupyter-widgets/base",
      "model_module_version": "1.2.0",
      "model_name": "LayoutModel",
      "state": {}
     },
     "5a4bfaac0fa04d738b4622193762a533": {
      "model_module": "@jupyter-widgets/controls",
      "model_module_version": "1.5.0",
      "model_name": "HTMLModel",
      "state": {
       "layout": "IPY_MODEL_e544d599e10d476ab3f47ed7809b125e",
       "style": "IPY_MODEL_68c4c8e7b83f46e8a9d964cd41981963",
       "value": "<h4>Total Scan Time: 6.0 minutes</h4>"
      }
     },
     "5cb7542efeb84a7c81c8245a972a0530": {
      "model_module": "@jupyter-widgets/controls",
      "model_module_version": "1.5.0",
      "model_name": "ButtonModel",
      "state": {
       "button_style": "success",
       "description": "Run",
       "layout": "IPY_MODEL_b5e47fd817524e1ca81997c61115924a",
       "style": "IPY_MODEL_ce2e1093753c461c9db730ed43b2e14a"
      }
     },
     "6011000b8df34715a635ebadbeeed0ce": {
      "model_module": "@jupyter-widgets/controls",
      "model_module_version": "1.5.0",
      "model_name": "HBoxModel",
      "state": {
       "children": [
        "IPY_MODEL_b93ffafdd82343a3b02d31aa1535d8b2",
        "IPY_MODEL_0700a3e9761c4adcaff27f356fd2ffab",
        "IPY_MODEL_6c3b170ba625436680f25800852bb8f5"
       ],
       "layout": "IPY_MODEL_e2842fcd275b45688a6200d9b78789e8"
      }
     },
     "6155584acebe4f75b8f24ef678948fef": {
      "model_module": "@jupyter-widgets/base",
      "model_module_version": "1.2.0",
      "model_name": "LayoutModel",
      "state": {
       "width": "auto"
      }
     },
     "62f5588505a642ceaaf8a69892c8cbe6": {
      "model_module": "@jupyter-widgets/controls",
      "model_module_version": "1.5.0",
      "model_name": "HBoxModel",
      "state": {
       "children": [
        "IPY_MODEL_678b18a4211d4ac78ea0f3d48ccc32ca",
        "IPY_MODEL_e7b9903017974a5a894f597238289bad",
        "IPY_MODEL_0f3be72a3af541ffa936c12d9235cdde"
       ],
       "layout": "IPY_MODEL_5a209786559d4299b2950abc45a3bba4"
      }
     },
     "678b18a4211d4ac78ea0f3d48ccc32ca": {
      "model_module": "@jupyter-widgets/controls",
      "model_module_version": "1.5.0",
      "model_name": "HTMLModel",
      "state": {
       "layout": "IPY_MODEL_7c6b0a1036d24b65bb4912da75e450de",
       "style": "IPY_MODEL_aa402ed2d0bc4b32bf23afd31b4dae08",
       "value": "<p>Recording Lengths (seconds)</p>"
      }
     },
     "68c4c8e7b83f46e8a9d964cd41981963": {
      "model_module": "@jupyter-widgets/controls",
      "model_module_version": "1.5.0",
      "model_name": "DescriptionStyleModel",
      "state": {
       "description_width": ""
      }
     },
     "6a57394e741a4799bb563f2756383c1d": {
      "model_module": "@jupyter-widgets/base",
      "model_module_version": "1.2.0",
      "model_name": "LayoutModel",
      "state": {}
     },
     "6c3b170ba625436680f25800852bb8f5": {
      "model_module": "@jupyter-widgets/controls",
      "model_module_version": "1.5.0",
      "model_name": "ButtonModel",
      "state": {
       "button_style": "success",
       "description": "Run",
       "layout": "IPY_MODEL_6155584acebe4f75b8f24ef678948fef",
       "style": "IPY_MODEL_784b370b605c4a439e9c5a6134358af6"
      }
     },
     "731001ab31d74b828bc87dcdd1e964e5": {
      "model_module": "@jupyter-widgets/controls",
      "model_module_version": "1.5.0",
      "model_name": "ButtonModel",
      "state": {
       "button_style": "success",
       "description": "Run",
       "layout": "IPY_MODEL_0374b47ec8034460bbc5e52e642acd5d",
       "style": "IPY_MODEL_309a5874edd54428b99cfd33a1ca79cb"
      }
     },
     "784b370b605c4a439e9c5a6134358af6": {
      "model_module": "@jupyter-widgets/controls",
      "model_module_version": "1.5.0",
      "model_name": "ButtonStyleModel",
      "state": {}
     },
     "7a7b4463f7ce4f94814bd8dd3f8e2c23": {
      "model_module": "@jupyter-widgets/controls",
      "model_module_version": "1.5.0",
      "model_name": "HTMLModel",
      "state": {
       "layout": "IPY_MODEL_5179de38071146a4aefa6ad0bf24735b",
       "style": "IPY_MODEL_04757dcb62ff465c95c820fa3331c885",
       "value": "<h4>Total Scan Time: 2.4minutes</h4>"
      }
     },
     "7adf721f9da544459f9ac8a33b2caef8": {
      "model_module": "@jupyter-widgets/base",
      "model_module_version": "1.2.0",
      "model_name": "LayoutModel",
      "state": {
       "width": "auto"
      }
     },
     "7c6b0a1036d24b65bb4912da75e450de": {
      "model_module": "@jupyter-widgets/base",
      "model_module_version": "1.2.0",
      "model_name": "LayoutModel",
      "state": {}
     },
     "7ff4421e2ce8492dbf6ea00de6290e13": {
      "model_module": "@jupyter-widgets/controls",
      "model_module_version": "1.5.0",
      "model_name": "ButtonStyleModel",
      "state": {}
     },
     "800133be54fb4242838c4606537c99e6": {
      "model_module": "@jupyter-widgets/controls",
      "model_module_version": "1.5.0",
      "model_name": "DescriptionStyleModel",
      "state": {
       "description_width": ""
      }
     },
     "82d7c04b615549409370195657ddf77a": {
      "model_module": "@jupyter-widgets/base",
      "model_module_version": "1.2.0",
      "model_name": "LayoutModel",
      "state": {
       "width": "auto"
      }
     },
     "857279521bea49bd8947f254238c677e": {
      "model_module": "@jupyter-widgets/base",
      "model_module_version": "1.2.0",
      "model_name": "LayoutModel",
      "state": {}
     },
     "899371ea7f264de082f3f65d06af6aa0": {
      "model_module": "@jupyter-widgets/base",
      "model_module_version": "1.2.0",
      "model_name": "LayoutModel",
      "state": {}
     },
     "8cee2451e7af4272a38c9420ddfe1bd8": {
      "model_module": "@jupyter-widgets/base",
      "model_module_version": "1.2.0",
      "model_name": "LayoutModel",
      "state": {
       "width": "auto"
      }
     },
     "8deede63d1944a55b4c737339ad223b2": {
      "model_module": "@jupyter-widgets/controls",
      "model_module_version": "1.5.0",
      "model_name": "DescriptionStyleModel",
      "state": {
       "description_width": ""
      }
     },
     "90acd57565154e49a6274871eff2e7d2": {
      "model_module": "@jupyter-widgets/base",
      "model_module_version": "1.2.0",
      "model_name": "LayoutModel",
      "state": {
       "width": "auto"
      }
     },
     "9365c687f36446b8ace4640396fd28c9": {
      "model_module": "@jupyter-widgets/controls",
      "model_module_version": "1.5.0",
      "model_name": "ButtonStyleModel",
      "state": {}
     },
     "95526efe80214ccabe1398c6a2b07c6d": {
      "model_module": "@jupyter-widgets/controls",
      "model_module_version": "1.5.0",
      "model_name": "ButtonModel",
      "state": {
       "button_style": "success",
       "description": "Run",
       "layout": "IPY_MODEL_82d7c04b615549409370195657ddf77a",
       "style": "IPY_MODEL_4afab81a6a1341b18b6052cfe69b0986"
      }
     },
     "96a9be190a4d49e0a3b436d5c1ce37d1": {
      "model_module": "@jupyter-widgets/controls",
      "model_module_version": "1.5.0",
      "model_name": "HBoxModel",
      "state": {
       "children": [
        "IPY_MODEL_d24c65d88a0540409072e9f0190e932a",
        "IPY_MODEL_c05df42c53284f10ab753865bde3dd21",
        "IPY_MODEL_d73cd6c8f0f94f809857a055c25c8d07"
       ],
       "layout": "IPY_MODEL_b62501df7de247d382ca880c1ef35da3"
      }
     },
     "9854af8ee54e4a2c934ff0f098de1051": {
      "model_module": "@jupyter-widgets/controls",
      "model_module_version": "1.5.0",
      "model_name": "HTMLModel",
      "state": {
       "layout": "IPY_MODEL_899371ea7f264de082f3f65d06af6aa0",
       "style": "IPY_MODEL_20c35acfa88e4c2ab8d33c6c13030bc7",
       "value": "<h4>Total Scan Time: 6.0 minutes</h4>"
      }
     },
     "98e1bad0facb478e85acd4ee05518561": {
      "model_module": "@jupyter-widgets/base",
      "model_module_version": "1.2.0",
      "model_name": "LayoutModel",
      "state": {}
     },
     "9aac3341076a4b8396a4062552c52ab6": {
      "model_module": "@jupyter-widgets/controls",
      "model_module_version": "1.5.0",
      "model_name": "IntTextModel",
      "state": {
       "layout": "IPY_MODEL_dca5d041369a4c84a79ce3b5f237e453",
       "step": 1,
       "style": "IPY_MODEL_2035caa1be6444a2bbeb29242ca2819e",
       "value": 4
      }
     },
     "a4ebfaa024ca4875b94111591c7945df": {
      "model_module": "@jupyter-widgets/controls",
      "model_module_version": "1.5.0",
      "model_name": "IntTextModel",
      "state": {
       "layout": "IPY_MODEL_8cee2451e7af4272a38c9420ddfe1bd8",
       "step": 1,
       "style": "IPY_MODEL_a68aac36fda141448e1d4243bea0200c",
       "value": 5
      }
     },
     "a68aac36fda141448e1d4243bea0200c": {
      "model_module": "@jupyter-widgets/controls",
      "model_module_version": "1.5.0",
      "model_name": "DescriptionStyleModel",
      "state": {
       "description_width": ""
      }
     },
     "aa402ed2d0bc4b32bf23afd31b4dae08": {
      "model_module": "@jupyter-widgets/controls",
      "model_module_version": "1.5.0",
      "model_name": "DescriptionStyleModel",
      "state": {
       "description_width": ""
      }
     },
     "ab92a128c85a44a5abb118a4ea3283ea": {
      "model_module": "@jupyter-widgets/controls",
      "model_module_version": "1.5.0",
      "model_name": "DescriptionStyleModel",
      "state": {
       "description_width": ""
      }
     },
     "abefb8dc039f43d0a7d82908c9da92b7": {
      "model_module": "@jupyter-widgets/controls",
      "model_module_version": "1.5.0",
      "model_name": "DescriptionStyleModel",
      "state": {
       "description_width": ""
      }
     },
     "af98b37069554d1f9afb63cd3ff429d4": {
      "model_module": "@jupyter-widgets/controls",
      "model_module_version": "1.5.0",
      "model_name": "DescriptionStyleModel",
      "state": {
       "description_width": ""
      }
     },
     "b0387b0a71ac483bb54f017ba3c2dcc0": {
      "model_module": "@jupyter-widgets/base",
      "model_module_version": "1.2.0",
      "model_name": "LayoutModel",
      "state": {}
     },
     "b4f824f3623e471fa67445cb101ca383": {
      "model_module": "@jupyter-widgets/controls",
      "model_module_version": "1.5.0",
      "model_name": "HBoxModel",
      "state": {
       "children": [
        "IPY_MODEL_ffabd503af954a0aafb7fded80f1b818",
        "IPY_MODEL_296392085ed7405b9256d957319b3d74",
        "IPY_MODEL_49e664df26c544778024aa4ed7425ed8"
       ],
       "layout": "IPY_MODEL_6a57394e741a4799bb563f2756383c1d"
      }
     },
     "b5e47fd817524e1ca81997c61115924a": {
      "model_module": "@jupyter-widgets/base",
      "model_module_version": "1.2.0",
      "model_name": "LayoutModel",
      "state": {
       "width": "auto"
      }
     },
     "b5ecd95305ff431eb4b5ba5c52cdc7a4": {
      "model_module": "@jupyter-widgets/controls",
      "model_module_version": "1.5.0",
      "model_name": "HTMLModel",
      "state": {
       "layout": "IPY_MODEL_fa5d83d12dcb4e0c94242f0ae094c8d6",
       "style": "IPY_MODEL_5700ef02711c48a9a97fde4d5555a067",
       "value": "<p>Recording Lengths (seconds)</p>"
      }
     },
     "b62501df7de247d382ca880c1ef35da3": {
      "model_module": "@jupyter-widgets/base",
      "model_module_version": "1.2.0",
      "model_name": "LayoutModel",
      "state": {}
     },
     "b8cde4f8d72e4d30849e9c27f7cb43f6": {
      "model_module": "@jupyter-widgets/controls",
      "model_module_version": "1.5.0",
      "model_name": "DescriptionStyleModel",
      "state": {
       "description_width": ""
      }
     },
     "b93ffafdd82343a3b02d31aa1535d8b2": {
      "model_module": "@jupyter-widgets/controls",
      "model_module_version": "1.5.0",
      "model_name": "HTMLModel",
      "state": {
       "layout": "IPY_MODEL_98e1bad0facb478e85acd4ee05518561",
       "style": "IPY_MODEL_cefc949aa85742598a8ad6acc273d656",
       "value": "<p>Recording Lengths (seconds)</p>"
      }
     },
     "b9bb40f2dce14fd1b559c611a6459a70": {
      "model_module": "@jupyter-widgets/controls",
      "model_module_version": "1.5.0",
      "model_name": "ButtonStyleModel",
      "state": {}
     },
     "baa562bd908245f782de4259542766fc": {
      "model_module": "@jupyter-widgets/controls",
      "model_module_version": "1.5.0",
      "model_name": "HTMLModel",
      "state": {
       "layout": "IPY_MODEL_2c523a1a53744589bb6bffece80ad03e",
       "style": "IPY_MODEL_2c85bee6976b4f6492cc88e364e4dbda",
       "value": "<h4>Total Scan Time: 3.0 minutes</h4>"
      }
     },
     "bfab3eb6352e415dbc24721967fc55c0": {
      "model_module": "@jupyter-widgets/controls",
      "model_module_version": "1.5.0",
      "model_name": "HTMLModel",
      "state": {
       "layout": "IPY_MODEL_857279521bea49bd8947f254238c677e",
       "style": "IPY_MODEL_8deede63d1944a55b4c737339ad223b2",
       "value": "<p>Recording Lengths (seconds)</p>"
      }
     },
     "c05df42c53284f10ab753865bde3dd21": {
      "model_module": "@jupyter-widgets/controls",
      "model_module_version": "1.5.0",
      "model_name": "IntTextModel",
      "state": {
       "layout": "IPY_MODEL_ef1d0903f69a4905b43fb2602a9e97d5",
       "step": 1,
       "style": "IPY_MODEL_1c0ae23e7b8d4775a3079a112f99aeed",
       "value": 10
      }
     },
     "ce2e1093753c461c9db730ed43b2e14a": {
      "model_module": "@jupyter-widgets/controls",
      "model_module_version": "1.5.0",
      "model_name": "ButtonStyleModel",
      "state": {}
     },
     "cefc949aa85742598a8ad6acc273d656": {
      "model_module": "@jupyter-widgets/controls",
      "model_module_version": "1.5.0",
      "model_name": "DescriptionStyleModel",
      "state": {
       "description_width": ""
      }
     },
     "d148120bf6f7424ca0942af804c4a4b8": {
      "model_module": "@jupyter-widgets/base",
      "model_module_version": "1.2.0",
      "model_name": "LayoutModel",
      "state": {}
     },
     "d24c65d88a0540409072e9f0190e932a": {
      "model_module": "@jupyter-widgets/controls",
      "model_module_version": "1.5.0",
      "model_name": "HTMLModel",
      "state": {
       "layout": "IPY_MODEL_27a64af9d782484187b15fcf534e339f",
       "style": "IPY_MODEL_af98b37069554d1f9afb63cd3ff429d4",
       "value": "<p>Recording Lengths (seconds)</p>"
      }
     },
     "d73cd6c8f0f94f809857a055c25c8d07": {
      "model_module": "@jupyter-widgets/controls",
      "model_module_version": "1.5.0",
      "model_name": "ButtonModel",
      "state": {
       "button_style": "success",
       "description": "Run",
       "layout": "IPY_MODEL_90acd57565154e49a6274871eff2e7d2",
       "style": "IPY_MODEL_b9bb40f2dce14fd1b559c611a6459a70"
      }
     },
     "d76d0373fefe401c9c0f6a875348d520": {
      "model_module": "@jupyter-widgets/controls",
      "model_module_version": "1.5.0",
      "model_name": "HTMLModel",
      "state": {
       "layout": "IPY_MODEL_d148120bf6f7424ca0942af804c4a4b8",
       "style": "IPY_MODEL_2f1a79ccfb9f416cac7b90950985af11",
       "value": "<h4>Total Scan Time: 3.0 minutes</h4>"
      }
     },
     "d836e71638bd4f5f8a9b5c0354f720c6": {
      "model_module": "@jupyter-widgets/controls",
      "model_module_version": "1.5.0",
      "model_name": "DescriptionStyleModel",
      "state": {
       "description_width": ""
      }
     },
     "dad042c5254d4054bc4c2fce96536f86": {
      "model_module": "@jupyter-widgets/base",
      "model_module_version": "1.2.0",
      "model_name": "LayoutModel",
      "state": {}
     },
     "dca5d041369a4c84a79ce3b5f237e453": {
      "model_module": "@jupyter-widgets/base",
      "model_module_version": "1.2.0",
      "model_name": "LayoutModel",
      "state": {
       "width": "auto"
      }
     },
     "dd1407d7dddc4117ac93758be2770f06": {
      "model_module": "@jupyter-widgets/base",
      "model_module_version": "1.2.0",
      "model_name": "LayoutModel",
      "state": {
       "width": "auto"
      }
     },
     "e2842fcd275b45688a6200d9b78789e8": {
      "model_module": "@jupyter-widgets/base",
      "model_module_version": "1.2.0",
      "model_name": "LayoutModel",
      "state": {}
     },
     "e544d599e10d476ab3f47ed7809b125e": {
      "model_module": "@jupyter-widgets/base",
      "model_module_version": "1.2.0",
      "model_name": "LayoutModel",
      "state": {}
     },
     "e564ee771e844603ac6ca7cbd29c3bdf": {
      "model_module": "@jupyter-widgets/controls",
      "model_module_version": "1.5.0",
      "model_name": "HBoxModel",
      "state": {
       "children": [
        "IPY_MODEL_bfab3eb6352e415dbc24721967fc55c0",
        "IPY_MODEL_9aac3341076a4b8396a4062552c52ab6",
        "IPY_MODEL_731001ab31d74b828bc87dcdd1e964e5"
       ],
       "layout": "IPY_MODEL_0d0d1cec277b4631934344a9af99ae81"
      }
     },
     "e7b9903017974a5a894f597238289bad": {
      "model_module": "@jupyter-widgets/controls",
      "model_module_version": "1.5.0",
      "model_name": "IntTextModel",
      "state": {
       "layout": "IPY_MODEL_f9939a96568e42cd903fe3de339b530b",
       "step": 1,
       "style": "IPY_MODEL_0ca10ec282d046cf8ae511f8aa1e7504",
       "value": 5
      }
     },
     "ef1d0903f69a4905b43fb2602a9e97d5": {
      "model_module": "@jupyter-widgets/base",
      "model_module_version": "1.2.0",
      "model_name": "LayoutModel",
      "state": {
       "width": "auto"
      }
     },
     "f0cf5b291bc74af3b681fe1055e2b081": {
      "model_module": "@jupyter-widgets/base",
      "model_module_version": "1.2.0",
      "model_name": "LayoutModel",
      "state": {}
     },
     "f411d8471f794e24a731a4e5190bf2a3": {
      "model_module": "@jupyter-widgets/controls",
      "model_module_version": "1.5.0",
      "model_name": "DescriptionStyleModel",
      "state": {
       "description_width": ""
      }
     },
     "f87c77728b1d4309ab9de535cb416095": {
      "model_module": "@jupyter-widgets/controls",
      "model_module_version": "1.5.0",
      "model_name": "HBoxModel",
      "state": {
       "children": [
        "IPY_MODEL_b5ecd95305ff431eb4b5ba5c52cdc7a4",
        "IPY_MODEL_a4ebfaa024ca4875b94111591c7945df",
        "IPY_MODEL_5cb7542efeb84a7c81c8245a972a0530"
       ],
       "layout": "IPY_MODEL_31af43fd457e477481d549b87b11e30d"
      }
     },
     "f9939a96568e42cd903fe3de339b530b": {
      "model_module": "@jupyter-widgets/base",
      "model_module_version": "1.2.0",
      "model_name": "LayoutModel",
      "state": {
       "width": "auto"
      }
     },
     "fa5d83d12dcb4e0c94242f0ae094c8d6": {
      "model_module": "@jupyter-widgets/base",
      "model_module_version": "1.2.0",
      "model_name": "LayoutModel",
      "state": {}
     },
     "faa5d887a88f407781dbca08b415bbfa": {
      "model_module": "@jupyter-widgets/base",
      "model_module_version": "1.2.0",
      "model_name": "LayoutModel",
      "state": {
       "width": "auto"
      }
     },
     "ffabd503af954a0aafb7fded80f1b818": {
      "model_module": "@jupyter-widgets/controls",
      "model_module_version": "1.5.0",
      "model_name": "HTMLModel",
      "state": {
       "layout": "IPY_MODEL_dad042c5254d4054bc4c2fce96536f86",
       "style": "IPY_MODEL_d836e71638bd4f5f8a9b5c0354f720c6",
       "value": "<p>Recording Lengths (seconds)</p>"
      }
     }
    },
    "version_major": 2,
    "version_minor": 0
   }
  }
 },
 "nbformat": 4,
 "nbformat_minor": 5
}
